{
 "cells": [
  {
   "cell_type": "code",
   "execution_count": 1,
   "id": "eab14429-b573-450c-bcc9-d4571267cbac",
   "metadata": {},
   "outputs": [],
   "source": [
    "import datetime as dt"
   ]
  },
  {
   "cell_type": "code",
   "execution_count": 3,
   "id": "5abcce46-d5cc-411b-b1b1-63b4e03e23ba",
   "metadata": {},
   "outputs": [],
   "source": [
    "products = {\"Rice\" : 80,\n",
    "           \"Dal\" : 100,\n",
    "           \"Oil\" : 180,\n",
    "           \"Coke\" : 40,\n",
    "           \"Maggi\" : 12,\n",
    "           \"Poha\" : 40,\n",
    "           \"Suji\" : 45,\n",
    "           \"Tomato ketchup\" : 60,\n",
    "           \"Chilli powder\" : 50,\n",
    "           \"Salt\" : 20,\n",
    "           \"Turmeric\" : 100,\n",
    "           \"Jeera\" : 180,\n",
    "           \"Sabudana\" : 40,\n",
    "           \"Apple\" : 180,\n",
    "           \"Mango\" : 100,\n",
    "           \"Avacado\" : 500,\n",
    "           \"Orange\" : 100,\n",
    "           \"Strawberry\" : 100}\n"
   ]
  },
  {
   "cell_type": "code",
   "execution_count": null,
   "id": "34cca2e7-0331-4660-ab0d-4ab335040b96",
   "metadata": {},
   "outputs": [
    {
     "name": "stdout",
     "output_type": "stream",
     "text": [
      "******** Wellcome to Super Market Billing System ********\n",
      "\n",
      "\n"
     ]
    },
    {
     "name": "stdin",
     "output_type": "stream",
     "text": [
      "Enter the name of person : kinjan chauhan\n",
      "Enter the phone no. of person: 7652345690\n",
      "Enter the product name(or 'done' to finish) : rice\n",
      "Enter the quantity: 5\n",
      "Enter the product name(or 'done' to finish) : poha\n",
      "Enter the quantity: 5\n",
      "Enter the product name(or 'done' to finish) : suji\n",
      "Enter the quantity: 2\n",
      "Enter the product name(or 'done' to finish) : salt\n",
      "Enter the quantity: 5\n",
      "Enter the product name(or 'done' to finish) : done\n"
     ]
    },
    {
     "name": "stdout",
     "output_type": "stream",
     "text": [
      "--------------------------------------------------\n",
      "                \u001b[1mSUPER MARKET\u001b[0m                \n",
      "Star Mall,Satellite,Ahmedabad 380015, ph_no. 22762827\n",
      "--------------------------------------------------\n",
      "Date & Time: 2025-02-19 19:21:38.329767\n",
      "--------------------------------------------------\n",
      "Name: kinjan chauhan\n",
      "Phone number: 7652345690\n",
      "--------------------------------------------------\n",
      "ITEM        QTY        PRICE        TOTAL\n",
      "--------------------------------------------------\n",
      "Rice        5          80           400\n",
      "Poha        5          40           200\n",
      "Suji        2          45           90\n",
      "Salt        5          20           100\n",
      "--------------------------------------------------\n",
      "Subtotal:                          790\n",
      "Discount:                          39.5\n",
      "--------------------------------------------------\n",
      "Total_amount:                      750.5\n",
      "\n",
      "\n",
      "************** THANK YOU FOR VISITING **************\n",
      "--------------------------------------------------\n",
      "\n",
      "\n"
     ]
    }
   ],
   "source": [
    "\n",
    "while True:\n",
    "    print(\"*\"*8, \"Wellcome to Super Market Billing System\", \"*\"*8)\n",
    "    print(\"\\n\")\n",
    "    amount = 0\n",
    "    discount = 0\n",
    "    cart = {}\n",
    "    \n",
    "    name = input(\"Enter the name of person :\")\n",
    "    phn_no = int(input(\"Enter the phone no. of person:\"))\n",
    "    \n",
    "    while True:\n",
    "        p_name = input(\"Enter the product name(or 'done' to finish) :\" ).capitalize()\n",
    "        if p_name == \"Done\":\n",
    "            break\n",
    "        else:\n",
    "            Quantity = int(input(\"Enter the quantity:\"))\n",
    "            cart[p_name] = [Quantity, products[p_name], products[p_name] * Quantity]\n",
    "            amount += products[p_name] * Quantity\n",
    "           \n",
    "    \n",
    "    \n",
    "    if amount > 500:\n",
    "        discount = 0.05\n",
    "    elif amount > 1000:\n",
    "        discount = 0.10\n",
    "    elif amount > 1500:\n",
    "        discount = 0.15\n",
    "    elif amount > 2000:\n",
    "        discount = 0.20\n",
    "    else:\n",
    "        discount = 0\n",
    "    \n",
    "    payable_amt = amount - ( amount * discount)\n",
    "    \n",
    "    print (\"-\"*50)\n",
    "    print (\" \"*15,\"\\033[1m\" + \"SUPER MARKET\"+ \"\\033[0m\",\" \"*15)\n",
    "    print (\"Star Mall,Satellite,Ahmedabad 380015, ph_no. 22762827\")\n",
    "    print (\"-\"*50)\n",
    "    date = dt.datetime.now()\n",
    "    print(\"Date & Time:\", date)\n",
    "    print (\"-\"*50)\n",
    "    print (\"Name:\", name)\n",
    "    print (\"Phone number:\",phn_no)\n",
    "    print (\"-\"*50)\n",
    "    print (\"ITEM\",\" \"*6,\"QTY\",\" \"*6,\"PRICE\",\" \"*6,\"TOTAL\")\n",
    "    print (\"-\"*50)\n",
    "    for i,j in cart.items():\n",
    "        print(i,\" \"*6, j[0],\" \"*8,j[1], \" \"*9, j[2])\n",
    "    print (\"-\"*50)\n",
    "    print(\"Subtotal:\",\" \"*24, amount)\n",
    "    print(\"Discount:\",\" \"*24,amount * discount)\n",
    "    print (\"-\"*50)\n",
    "    print(\"Total_amount:\",\" \"*20,payable_amt)\n",
    "    print(\"\\n\")\n",
    "    \n",
    "    print(\"*\"*14,\"THANK YOU FOR VISITING\",\"*\"*14)\n",
    "    print (\"-\"*50)\n",
    "    print(\"\\n\")\n",
    "    n_person = input(\"Is there another person in queue (Yes/No):\").capitalize()\n",
    "    if n_person == \"No\":\n",
    "        break\n",
    "\n",
    "\n",
    "    \n"
   ]
  },
  {
   "cell_type": "code",
   "execution_count": null,
   "id": "f45d33e0-d2f5-48b6-9f14-a347425ef761",
   "metadata": {},
   "outputs": [],
   "source": []
  }
 ],
 "metadata": {
  "kernelspec": {
   "display_name": "Python 3 (ipykernel)",
   "language": "python",
   "name": "python3"
  },
  "language_info": {
   "codemirror_mode": {
    "name": "ipython",
    "version": 3
   },
   "file_extension": ".py",
   "mimetype": "text/x-python",
   "name": "python",
   "nbconvert_exporter": "python",
   "pygments_lexer": "ipython3",
   "version": "3.13.1"
  }
 },
 "nbformat": 4,
 "nbformat_minor": 5
}
